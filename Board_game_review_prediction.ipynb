{
  "nbformat": 4,
  "nbformat_minor": 0,
  "metadata": {
    "colab": {
      "name": "Board_game_review_prediction.ipynb",
      "provenance": [],
      "authorship_tag": "ABX9TyNLiLRfxOP5x24hAjoUBCjp",
      "include_colab_link": true
    },
    "kernelspec": {
      "name": "python3",
      "display_name": "Python 3"
    }
  },
  "cells": [
    {
      "cell_type": "markdown",
      "metadata": {
        "id": "view-in-github",
        "colab_type": "text"
      },
      "source": [
        "<a href=\"https://colab.research.google.com/github/zafe312/public_zafe/blob/master/Board_game_review_prediction.ipynb\" target=\"_parent\"><img src=\"https://colab.research.google.com/assets/colab-badge.svg\" alt=\"Open In Colab\"/></a>"
      ]
    },
    {
      "cell_type": "code",
      "metadata": {
        "id": "Ju_Y6cINlr8H",
        "colab_type": "code",
        "colab": {
          "base_uri": "https://localhost:8080/",
          "height": 184
        },
        "outputId": "f351f010-b6ff-4924-c53e-8992ce4fcf4b"
      },
      "source": [
        "import sys\n",
        "import pandas\n",
        "import seaborn\n",
        "import matplotlib\n",
        "import sklearn\n",
        "\n",
        "print(sys.version)\n",
        "print(pandas.__version__)\n",
        "print(matplotlib.__version__)\n",
        "print(sklearn.__version__)\n",
        "print(seaborn.__version__)"
      ],
      "execution_count": 1,
      "outputs": [
        {
          "output_type": "stream",
          "text": [
            "3.6.9 (default, Apr 18 2020, 01:56:04) \n",
            "[GCC 8.4.0]\n",
            "1.0.5\n",
            "3.2.2\n",
            "0.22.2.post1\n",
            "0.10.1\n"
          ],
          "name": "stdout"
        },
        {
          "output_type": "stream",
          "text": [
            "/usr/local/lib/python3.6/dist-packages/statsmodels/tools/_testing.py:19: FutureWarning: pandas.util.testing is deprecated. Use the functions in the public API at pandas.testing instead.\n",
            "  import pandas.util.testing as tm\n"
          ],
          "name": "stderr"
        }
      ]
    },
    {
      "cell_type": "code",
      "metadata": {
        "id": "W2OHD6U12AtG",
        "colab_type": "code",
        "colab": {}
      },
      "source": [
        "import matplotlib.pyplot as plt\n",
        "import pandas as pd\n",
        "import seaborn as sns\n",
        "from sklearn.model_selection import train_test_split"
      ],
      "execution_count": 3,
      "outputs": []
    },
    {
      "cell_type": "code",
      "metadata": {
        "id": "SGkgHdag5C3s",
        "colab_type": "code",
        "colab": {}
      },
      "source": [
        "# dataset\n",
        "games = pd.read_csv('games.csv')"
      ],
      "execution_count": 5,
      "outputs": []
    },
    {
      "cell_type": "code",
      "metadata": {
        "id": "pPcknccf5e4Q",
        "colab_type": "code",
        "colab": {
          "base_uri": "https://localhost:8080/",
          "height": 146
        },
        "outputId": "eec5c371-50ee-412b-e370-fe0ac9c27aee"
      },
      "source": [
        "# print names of columns in games\n",
        "print(games.columns)\n",
        "print(games.shape)"
      ],
      "execution_count": 17,
      "outputs": [
        {
          "output_type": "stream",
          "text": [
            "Index(['id', 'type', 'name', 'yearpublished', 'minplayers', 'maxplayers',\n",
            "       'playingtime', 'minplaytime', 'maxplaytime', 'minage', 'users_rated',\n",
            "       'average_rating', 'bayes_average_rating', 'total_owners',\n",
            "       'total_traders', 'total_wanters', 'total_wishers', 'total_comments',\n",
            "       'total_weights', 'average_weight'],\n",
            "      dtype='object')\n",
            "(49613, 20)\n"
          ],
          "name": "stdout"
        }
      ]
    },
    {
      "cell_type": "code",
      "metadata": {
        "id": "jkXxsSrE6nSv",
        "colab_type": "code",
        "colab": {
          "base_uri": "https://localhost:8080/",
          "height": 338
        },
        "outputId": "c7e43731-1dcc-4e00-bf37-2aff8068b2d7"
      },
      "source": [
        "# histogram of ratings from average_rating colummn\n",
        "plt.hist(games['average_rating'])\n",
        "plt.show()"
      ],
      "execution_count": 21,
      "outputs": [
        {
          "output_type": "stream",
          "text": [
            "/usr/local/lib/python3.6/dist-packages/numpy/lib/histograms.py:839: RuntimeWarning: invalid value encountered in greater_equal\n",
            "  keep = (tmp_a >= first_edge)\n",
            "/usr/local/lib/python3.6/dist-packages/numpy/lib/histograms.py:840: RuntimeWarning: invalid value encountered in less_equal\n",
            "  keep &= (tmp_a <= last_edge)\n"
          ],
          "name": "stderr"
        },
        {
          "output_type": "display_data",
          "data": {
            "image/png": "[encoded data removed]",
            "text/plain": [
              "<Figure size 432x288 with 1 Axes>"
            ]
          },
          "metadata": {
            "tags": [],
            "needs_background": "light"
          }
        }
      ]
    },
    {
      "cell_type": "code",
      "metadata": {
        "id": "Udp7M8hR9Ybj",
        "colab_type": "code",
        "colab": {
          "base_uri": "https://localhost:8080/",
          "height": 788
        },
        "outputId": "156cd36c-aad0-4ead-fd19-6eb7058ae174"
      },
      "source": [
        "# print first row of all games with zero score\n",
        "print(games[games['average_rating']==0].iloc[0])\n",
        "\n",
        "# print first row of games with score more than 0\n",
        "print(games[games['average_rating']>0].iloc[0])"
      ],
      "execution_count": 38,
      "outputs": [
        {
          "output_type": "stream",
          "text": [
            "id                             318\n",
            "type                     boardgame\n",
            "name                    Looney Leo\n",
            "yearpublished                    0\n",
            "minplayers                       0\n",
            "maxplayers                       0\n",
            "playingtime                      0\n",
            "minplaytime                      0\n",
            "maxplaytime                      0\n",
            "minage                           0\n",
            "users_rated                      0\n",
            "average_rating                   0\n",
            "bayes_average_rating             0\n",
            "total_owners                     0\n",
            "total_traders                    0\n",
            "total_wanters                    0\n",
            "total_wishers                    1\n",
            "total_comments                   0\n",
            "total_weights                    0\n",
            "average_weight                   0\n",
            "Name: 13048, dtype: object\n",
            "id                                  12333\n",
            "type                            boardgame\n",
            "name                    Twilight Struggle\n",
            "yearpublished                        2005\n",
            "minplayers                              2\n",
            "maxplayers                              2\n",
            "playingtime                           180\n",
            "minplaytime                           180\n",
            "maxplaytime                           180\n",
            "minage                                 13\n",
            "users_rated                         20113\n",
            "average_rating                    8.33774\n",
            "bayes_average_rating              8.22186\n",
            "total_owners                        26647\n",
            "total_traders                         372\n",
            "total_wanters                        1219\n",
            "total_wishers                        5865\n",
            "total_comments                       5347\n",
            "total_weights                        2562\n",
            "average_weight                     3.4785\n",
            "Name: 0, dtype: object\n"
          ],
          "name": "stdout"
        }
      ]
    },
    {
      "cell_type": "code",
      "metadata": {
        "id": "yziQ7E_a_UfI",
        "colab_type": "code",
        "colab": {}
      },
      "source": [
        "# remove any row without user review\n",
        "games = games[games['users_rated'] > 0]\n",
        "\n",
        "#remove any row with missing data\n",
        "games = games.dropna(axis = 0)"
      ],
      "execution_count": 39,
      "outputs": []
    },
    {
      "cell_type": "code",
      "metadata": {
        "id": "GbYdGFwjCFB8",
        "colab_type": "code",
        "colab": {
          "base_uri": "https://localhost:8080/",
          "height": 265
        },
        "outputId": "46a3bba1-c13e-4854-8c83-41583229c3ab"
      },
      "source": [
        "# new histogram of average_rating\n",
        "plt.hist(games['average_rating'])\n",
        "plt.show()"
      ],
      "execution_count": 42,
      "outputs": [
        {
          "output_type": "display_data",
          "data": {
            "image/png": "[encoded data removed]",
            "text/plain": [
              "<Figure size 432x288 with 1 Axes>"
            ]
          },
          "metadata": {
            "tags": [],
            "needs_background": "light"
          }
        }
      ]
    },
    {
      "cell_type": "code",
      "metadata": {
        "id": "wL_LdiARCOxn",
        "colab_type": "code",
        "colab": {
          "base_uri": "https://localhost:8080/",
          "height": 641
        },
        "outputId": "c0551d5c-5a99-4503-c9ab-253e47aa10d8"
      },
      "source": [
        "# correlation matrix\n",
        "cormap = games.corr()\n",
        "fig = plt.figure(figsize=(12,9))\n",
        "\n",
        "sns.heatmap(cormap, vmax = 0.8, square=True)\n",
        "plt.show()"
      ],
      "execution_count": 45,
      "outputs": [
        {
          "output_type": "display_data",
          "data": {
            "image/png": "[encoded data removed]",
            "text/plain": [
              "<Figure size 864x648 with 2 Axes>"
            ]
          },
          "metadata": {
            "tags": [],
            "needs_background": "light"
          }
        }
      ]
    },
    {
      "cell_type": "code",
      "metadata": {
        "id": "QYj6oiuIDuGE",
        "colab_type": "code",
        "colab": {}
      },
      "source": [
        "# get all the column from the dataframe\n",
        "column = games.columns.tolist()\n",
        "column = [c for c in column if c not in ['bayes_average_rating','id','name','average_rating','type']]\n",
        "\n",
        "# store the variable we'll be predicting on\n",
        "target = 'average_rating'"
      ],
      "execution_count": 54,
      "outputs": []
    },
    {
      "cell_type": "code",
      "metadata": {
        "id": "S2eWH3DgOgJ5",
        "colab_type": "code",
        "colab": {
          "base_uri": "https://localhost:8080/",
          "height": 54
        },
        "outputId": "0264ba5c-9f52-4182-9265-bf02ecd15091"
      },
      "source": [
        "# generate train and test data\n",
        "train = games.sample(frac=0.8, random_state=1)\n",
        "\n",
        "#select everything that's not on the train set and put in test set\n",
        "test = games.loc[~games.index.isin(train.index)]\n",
        "\n",
        "print(train.shape)\n",
        "print(test.shape)"
      ],
      "execution_count": 55,
      "outputs": [
        {
          "output_type": "stream",
          "text": [
            "(31018, 20)\n",
            "(7754, 20)\n"
          ],
          "name": "stdout"
        }
      ]
    },
    {
      "cell_type": "code",
      "metadata": {
        "id": "dK-m31C_Qtf_",
        "colab_type": "code",
        "colab": {}
      },
      "source": [
        "# import linear regression model\n",
        "from sklearn.linear_model import LinearRegression\n",
        "from sklearn.metrics import mean_squared_error"
      ],
      "execution_count": 56,
      "outputs": []
    },
    {
      "cell_type": "code",
      "metadata": {
        "id": "29-MGD9ZYBAi",
        "colab_type": "code",
        "colab": {
          "base_uri": "https://localhost:8080/",
          "height": 35
        },
        "outputId": "da90852c-ceae-49d1-9bc5-4cbe32602a9c"
      },
      "source": [
        "#initialize the model class\n",
        "LR = LinearRegression()\n",
        "\n",
        "# Fit the model to training data\n",
        "LR.fit(train[column], train[target])\n"
      ],
      "execution_count": 58,
      "outputs": [
        {
          "output_type": "execute_result",
          "data": {
            "text/plain": [
              "LinearRegression(copy_X=True, fit_intercept=True, n_jobs=None, normalize=False)"
            ]
          },
          "metadata": {
            "tags": []
          },
          "execution_count": 58
        }
      ]
    },
    {
      "cell_type": "code",
      "metadata": {
        "id": "LzI9aScFYoBA",
        "colab_type": "code",
        "colab": {
          "base_uri": "https://localhost:8080/",
          "height": 35
        },
        "outputId": "2c606b01-ce2c-4305-cc6f-dcca9e6305ff"
      },
      "source": [
        "# Generate prediction for test dataset\n",
        "predictions = LR.predict(test[column])\n",
        "\n",
        "# Compute error between test prediction and actul value\n",
        "mean_squared_error(predictions, test[target])\n"
      ],
      "execution_count": 59,
      "outputs": [
        {
          "output_type": "execute_result",
          "data": {
            "text/plain": [
              "1.5537540363216735"
            ]
          },
          "metadata": {
            "tags": []
          },
          "execution_count": 59
        }
      ]
    },
    {
      "cell_type": "code",
      "metadata": {
        "id": "MiaESBvEZdiE",
        "colab_type": "code",
        "colab": {}
      },
      "source": [
        "# import random forrest reggressor\n",
        "from sklearn.ensemble import RandomForestRegressor\n",
        "\n",
        "# Initialize the model\n",
        "RFR = RandomForestRegressor(n_estimators = 100, min_samples_leaf = 10, random_state=1)"
      ],
      "execution_count": 61,
      "outputs": []
    },
    {
      "cell_type": "code",
      "metadata": {
        "id": "TblLQe0Rbm8s",
        "colab_type": "code",
        "colab": {
          "base_uri": "https://localhost:8080/",
          "height": 146
        },
        "outputId": "3506a0a8-2f28-4308-fd29-1ca94e528950"
      },
      "source": [
        "# fit the model to train\n",
        "RFR.fit(train[column], train[target])"
      ],
      "execution_count": 63,
      "outputs": [
        {
          "output_type": "execute_result",
          "data": {
            "text/plain": [
              "RandomForestRegressor(bootstrap=True, ccp_alpha=0.0, criterion='mse',\n",
              "                      max_depth=None, max_features='auto', max_leaf_nodes=None,\n",
              "                      max_samples=None, min_impurity_decrease=0.0,\n",
              "                      min_impurity_split=None, min_samples_leaf=10,\n",
              "                      min_samples_split=2, min_weight_fraction_leaf=0.0,\n",
              "                      n_estimators=100, n_jobs=None, oob_score=False,\n",
              "                      random_state=1, verbose=0, warm_start=False)"
            ]
          },
          "metadata": {
            "tags": []
          },
          "execution_count": 63
        }
      ]
    },
    {
      "cell_type": "code",
      "metadata": {
        "id": "bGLZgYJMbyAy",
        "colab_type": "code",
        "colab": {
          "base_uri": "https://localhost:8080/",
          "height": 35
        },
        "outputId": "00c2c9d9-1a4f-4451-bdd6-56ddb2bcfff4"
      },
      "source": [
        "# generate prediction\n",
        "predictions = RFR.predict(test[column])\n",
        "\n",
        "# Error\n",
        "mean_squared_error(predictions, test[target])"
      ],
      "execution_count": 64,
      "outputs": [
        {
          "output_type": "execute_result",
          "data": {
            "text/plain": [
              "1.2286217115522178"
            ]
          },
          "metadata": {
            "tags": []
          },
          "execution_count": 64
        }
      ]
    },
    {
      "cell_type": "code",
      "metadata": {
        "id": "V0LC8q4ucbFN",
        "colab_type": "code",
        "colab": {}
      },
      "source": [
        "# Thus non linear regressor gives better predictions than linear regressor"
      ],
      "execution_count": 73,
      "outputs": []
    },
    {
      "cell_type": "code",
      "metadata": {
        "id": "Mb0_ofOXdDcL",
        "colab_type": "code",
        "colab": {
          "base_uri": "https://localhost:8080/",
          "height": 403
        },
        "outputId": "f56a8b78-104b-40c4-b29c-db11243a91e2"
      },
      "source": [
        "# give prediction for single input\n",
        "example = test[column].iloc[0]\n",
        "print(example)\n",
        "print(example.shape)\n",
        "example = example.values.reshape(1, -1)\n",
        "print(example.shape)\n",
        "print(LR.predict(example))\n",
        "print(RFR.predict(example))\n",
        "print(test[target].iloc[0]) # actual value"
      ],
      "execution_count": 74,
      "outputs": [
        {
          "output_type": "stream",
          "text": [
            "yearpublished      2011.0000\n",
            "minplayers            2.0000\n",
            "maxplayers            6.0000\n",
            "playingtime         200.0000\n",
            "minplaytime          60.0000\n",
            "maxplaytime         200.0000\n",
            "minage               14.0000\n",
            "users_rated       15709.0000\n",
            "total_owners      17611.0000\n",
            "total_traders       273.0000\n",
            "total_wanters      1108.0000\n",
            "total_wishers      5581.0000\n",
            "total_comments     3188.0000\n",
            "total_weights      1486.0000\n",
            "average_weight        3.6359\n",
            "Name: 9, dtype: float64\n",
            "(15,)\n",
            "(1, 15)\n",
            "[7.7405124]\n",
            "[8.10042046]\n",
            "8.07933\n"
          ],
          "name": "stdout"
        }
      ]
    },
    {
      "cell_type": "code",
      "metadata": {
        "id": "nyYy_8pYdJPQ",
        "colab_type": "code",
        "colab": {}
      },
      "source": [
        ""
      ],
      "execution_count": null,
      "outputs": []
    }
  ]
}